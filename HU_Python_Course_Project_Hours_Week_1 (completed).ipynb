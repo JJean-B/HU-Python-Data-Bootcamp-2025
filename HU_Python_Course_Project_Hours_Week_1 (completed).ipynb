{
  "nbformat": 4,
  "nbformat_minor": 0,
  "metadata": {
    "colab": {
      "provenance": []
    },
    "kernelspec": {
      "name": "python3",
      "display_name": "Python 3"
    },
    "language_info": {
      "name": "python"
    }
  },
  "cells": [
    {
      "cell_type": "code",
      "execution_count": null,
      "metadata": {
        "id": "taPXcXJ6FXok"
      },
      "outputs": [],
      "source": []
    },
    {
      "cell_type": "markdown",
      "source": [
        "#Dictionaries\n",
        "- builtin data structure similar to lists\n",
        "  - lists are encolsed within square brackets, dictionary uses curly brackets\n"
      ],
      "metadata": {
        "id": "J78DkGxEQApa"
      }
    },
    {
      "cell_type": "code",
      "source": [
        "# there are usually key-value pairs - key : value e.g. state : capital or person : age\n",
        "flowers = {\n",
        "    \"Daisy\" : \"white\",\n",
        "    \"Rose\" : \"Red\",\n",
        "    \"Tulip\" : \"Pink\"\n",
        "    }\n",
        "\n",
        "print(flowers)"
      ],
      "metadata": {
        "colab": {
          "base_uri": "https://localhost:8080/"
        },
        "id": "cJe5SnT-QDGs",
        "outputId": "43bc796a-69a6-4c9f-929f-da603eeb1f32"
      },
      "execution_count": null,
      "outputs": [
        {
          "output_type": "stream",
          "name": "stdout",
          "text": [
            "{'Daisy': 'white', 'Rose': 'Red', 'Tulip': 'Pink'}\n"
          ]
        }
      ]
    },
    {
      "cell_type": "code",
      "source": [
        "type(flowers)"
      ],
      "metadata": {
        "colab": {
          "base_uri": "https://localhost:8080/"
        },
        "id": "HytsURspR0CK",
        "outputId": "986d1831-be36-41b9-d097-32a74858dd89"
      },
      "execution_count": null,
      "outputs": [
        {
          "output_type": "execute_result",
          "data": {
            "text/plain": [
              "dict"
            ]
          },
          "metadata": {},
          "execution_count": 8
        }
      ]
    },
    {
      "cell_type": "code",
      "source": [
        "#tuples (less preferred since they cant be changed)\n",
        "cars = dict([('Mazda', 'red'), ('Toyota', 'green')])\n",
        "print(cars)\n",
        "type(cars)"
      ],
      "metadata": {
        "colab": {
          "base_uri": "https://localhost:8080/"
        },
        "id": "2Fj6UsWDSEJc",
        "outputId": "635935c6-1105-4cc6-858c-604f24b107ee"
      },
      "execution_count": null,
      "outputs": [
        {
          "output_type": "stream",
          "name": "stdout",
          "text": [
            "{'Mazda': 'red', 'Toyota': 'green'}\n"
          ]
        },
        {
          "output_type": "execute_result",
          "data": {
            "text/plain": [
              "dict"
            ]
          },
          "metadata": {},
          "execution_count": 11
        }
      ]
    },
    {
      "cell_type": "code",
      "source": [
        "#keys()\n",
        "flowertypes = flowers.keys()\n",
        "flowertypes"
      ],
      "metadata": {
        "colab": {
          "base_uri": "https://localhost:8080/"
        },
        "id": "quYahwYPSsvY",
        "outputId": "82eeb72f-e39d-4bbb-d2ab-901ade857683"
      },
      "execution_count": null,
      "outputs": [
        {
          "output_type": "execute_result",
          "data": {
            "text/plain": [
              "dict_keys(['Daisy', 'Rose', 'Tulip'])"
            ]
          },
          "metadata": {},
          "execution_count": 14
        }
      ]
    },
    {
      "cell_type": "code",
      "source": [
        "#get()\n",
        "print(cars.get(\"Mazda\"))"
      ],
      "metadata": {
        "colab": {
          "base_uri": "https://localhost:8080/"
        },
        "id": "lR_KFIjnTRL2",
        "outputId": "c94ab637-f54c-44f5-85c9-4ad52acde0ed"
      },
      "execution_count": null,
      "outputs": [
        {
          "output_type": "stream",
          "name": "stdout",
          "text": [
            "red\n"
          ]
        }
      ]
    },
    {
      "cell_type": "code",
      "source": [
        "#pop method\n",
        "#removes an item from the dictionary"
      ],
      "metadata": {
        "id": "cJziNIKdTrt-"
      },
      "execution_count": null,
      "outputs": []
    },
    {
      "cell_type": "code",
      "source": [
        "#deleting an item\n",
        "#you cannot specify an alternative return value with del. if the key is not in the dictionary, pythong will return an KeyError\n",
        "#pop returns the removed value, del does not"
      ],
      "metadata": {
        "id": "16rQern1Ub5g"
      },
      "execution_count": null,
      "outputs": []
    },
    {
      "cell_type": "code",
      "source": [],
      "metadata": {
        "id": "LCeZrw2cUzsq"
      },
      "execution_count": null,
      "outputs": []
    },
    {
      "cell_type": "markdown",
      "source": [
        "#JSON\n",
        "keys = attributes\n",
        "\n",
        "at it's heart it is a dictionary"
      ],
      "metadata": {
        "id": "WnIMRA5jVxRu"
      }
    },
    {
      "cell_type": "code",
      "source": [],
      "metadata": {
        "id": "SfxnSHxJWMkX"
      },
      "execution_count": null,
      "outputs": []
    },
    {
      "cell_type": "markdown",
      "source": [
        "typically, we use:\n",
        "\n",
        "Update with dictionaries\n",
        "\n",
        "append with lists"
      ],
      "metadata": {
        "id": "eGg-19rZWM8Q"
      }
    }
  ]
}