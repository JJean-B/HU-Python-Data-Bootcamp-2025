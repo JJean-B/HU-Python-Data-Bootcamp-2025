{
  "cells": [
    {
      "cell_type": "markdown",
      "metadata": {
        "id": "view-in-github",
        "colab_type": "text"
      },
      "source": [
        "<a href=\"https://colab.research.google.com/github/JJean-B/HU-Python-Data-Bootcamp-2025/blob/main/Writing_to_a_CSV_File%20(completed).ipynb\" target=\"_parent\"><img src=\"https://colab.research.google.com/assets/colab-badge.svg\" alt=\"Open In Colab\"/></a>"
      ]
    },
    {
      "cell_type": "code",
      "execution_count": null,
      "metadata": {
        "id": "FnVrVOsdbFWy"
      },
      "outputs": [],
      "source": [
        "#Determine the current directory\n",
        "!pwd\n",
        "\n",
        "#Upload a file from the computer\n",
        "from google.colab import files\n",
        "uploaded = files.upload()\n",
        "\n"
      ]
    },
    {
      "cell_type": "code",
      "source": [
        "from google.colab import drive\n",
        "drive.mount('/content/drive')"
      ],
      "metadata": {
        "id": "4ZLS6fJt2GN4"
      },
      "execution_count": null,
      "outputs": []
    },
    {
      "cell_type": "code",
      "execution_count": null,
      "metadata": {
        "id": "A0jON1nmhTUF",
        "colab": {
          "base_uri": "https://localhost:8080/"
        },
        "outputId": "6b18b848-1062-40dc-f130-ac6edaec4071"
      },
      "outputs": [
        {
          "output_type": "stream",
          "name": "stdout",
          "text": [
            "<_io.TextIOWrapper name='practice1.csv' mode='r' encoding='UTF-8'>\n",
            "['Nigeria,Somalia,Senegal\\n', 'Ghana,Zambia,Chad\\n', 'Sudan,South Africa,Mali\\n', 'Ethiopia,Egypt,Kenya\\n', 'Angola,Cameroon,Guinea\\n']\n"
          ]
        }
      ],
      "source": [
        "read_file = open(\"practice1.csv\", \"r\")\n",
        "print(read_file)\n",
        "print(read_file.readlines())\n",
        "read_file.close()"
      ]
    },
    {
      "cell_type": "code",
      "execution_count": null,
      "metadata": {
        "id": "zaGAFripVui4",
        "colab": {
          "base_uri": "https://localhost:8080/"
        },
        "outputId": "6b7f63dc-4f35-4aa7-e3cf-1afa5e37e493"
      },
      "outputs": [
        {
          "output_type": "stream",
          "name": "stdout",
          "text": [
            "Nigeria,Somalia,Senegal\n",
            "\n",
            "Ghana,Zambia,Chad\n",
            "\n",
            "Sudan,South Africa,Mali\n",
            "\n",
            "Ethiopia,Egypt,Kenya\n",
            "\n",
            "Angola,Cameroon,Guinea\n",
            "\n"
          ]
        }
      ],
      "source": [
        "read_file = open(\"practice1.csv\", \"r\")\n",
        "for row in read_file:\n",
        "  print(row)\n",
        "read_file.close()"
      ]
    },
    {
      "cell_type": "code",
      "execution_count": null,
      "metadata": {
        "id": "r-WM9ii-fa4y",
        "colab": {
          "base_uri": "https://localhost:8080/"
        },
        "outputId": "821eed3a-5098-4dfa-dadb-814d8d33cc6f"
      },
      "outputs": [
        {
          "output_type": "stream",
          "name": "stdout",
          "text": [
            "Angola,Cameroon,Guinea\n",
            "\n",
            "Angola,Cameroon,Guinea\n",
            "\n",
            "Angola,Cameroon,Guinea\n",
            "\n",
            "Angola,Cameroon,Guinea\n",
            "\n",
            "Angola,Cameroon,Guinea\n",
            "\n"
          ]
        }
      ],
      "source": [
        "with open(\"practice1.csv\", \"r\") as input_file:\n",
        "  for line in input_file.readlines():\n",
        "    print(row)\n",
        "\n",
        "  for row in input_file:\n",
        "    print(row)"
      ]
    },
    {
      "cell_type": "code",
      "execution_count": null,
      "metadata": {
        "id": "iq-GOHZEhyj4",
        "colab": {
          "base_uri": "https://localhost:8080/"
        },
        "outputId": "33f7f227-4ade-4389-8c8a-165181058c2d"
      },
      "outputs": [
        {
          "output_type": "stream",
          "name": "stdout",
          "text": [
            "N i g\n",
            "G h a\n",
            "S u d\n",
            "E t h\n",
            "A n g\n"
          ]
        }
      ],
      "source": [
        "with open(\"practice1.csv\", \"r\") as read_file:\n",
        "  for row in read_file:\n",
        "    print(row[0], row[1], row[2])"
      ]
    },
    {
      "cell_type": "code",
      "execution_count": null,
      "metadata": {
        "id": "Ip1jNf49vEdu"
      },
      "outputs": [],
      "source": [
        "output_file = open(\"practice2.csv\", \"w\")\n",
        "\n",
        "output_file.writelines(\"Name1, Name2, Name3 \\n\")\n",
        "output_file.writelines(\"Ethiopia, Egypt, Kenya \\n\")\n",
        "output_file.writelines(\"Sudan, South Africa, Mali \\n\")\n",
        "output_file.writelines(\"Ghana, Zambia, Chad \\n\")\n",
        "output_file.close()"
      ]
    },
    {
      "cell_type": "code",
      "source": [
        "#Food_Production_Impact.csv\n",
        "\n",
        "output_file = open(\"Food_Production_Impact.csv\", \"w\")\n",
        "\n",
        "output_file.writelines(\"Chips, 0, Name3 \\n\")\n",
        "\n",
        "output_file.close()"
      ],
      "metadata": {
        "id": "Mnwm51l6LGy5"
      },
      "execution_count": null,
      "outputs": []
    },
    {
      "cell_type": "code",
      "execution_count": null,
      "metadata": {
        "id": "EIHOwhCZt8v0"
      },
      "outputs": [],
      "source": [
        "read_file = open(\"practice_excel3.csv\", \"r\")\n",
        "for row in read_file:\n",
        "  print(row)\n",
        "read_file.close()"
      ]
    },
    {
      "cell_type": "code",
      "execution_count": null,
      "metadata": {
        "id": "8SM7vHAUuMb0"
      },
      "outputs": [],
      "source": [
        "import csv\n",
        "with open(\"practice_excel3.csv\", \"w\") as output_file:\n",
        "  writer1 = csv.writer(output_file, lineterminator=\"\\n\")\n",
        "  writer1.writerows([ [\"Nigeria\", \"Angola\", \"Senegal\"], [\"Ethiopia\", \"Egypt\", \"Kenya\"],\n",
        "   [\"Sudan\", \"South Africa\", \"Mali\"], [\"Ghana\", \"Zambia\", \"Chad\"] ])"
      ]
    },
    {
      "cell_type": "code",
      "execution_count": null,
      "metadata": {
        "id": "9fBjJ9varN_s"
      },
      "outputs": [],
      "source": [
        "import csv\n",
        "output_file = open(\"practice_4.csv\", \"w\")\n",
        "writer = csv.writer(output_file, lineterminator=\"\\n\")\n",
        "writer.writerow([\"Greeting\", \"Language\"])\n",
        "writer.writerow([\"Hello\", \"English\"])\n",
        "writer.writerow([\"Bonjour\", \"French\"])\n",
        "writer.writerow([\"Hola\", \"Spanish\"])\n",
        "writer.writerow([\"Namaste\", \"Hindi\"])\n",
        "output_file.close()"
      ]
    }
  ],
  "metadata": {
    "colab": {
      "provenance": [],
      "include_colab_link": true
    },
    "kernelspec": {
      "display_name": "Python 3",
      "name": "python3"
    },
    "language_info": {
      "name": "python"
    }
  },
  "nbformat": 4,
  "nbformat_minor": 0
}