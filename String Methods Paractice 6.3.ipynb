{
  "nbformat": 4,
  "nbformat_minor": 0,
  "metadata": {
    "colab": {
      "provenance": [],
      "include_colab_link": true
    },
    "kernelspec": {
      "name": "python3",
      "display_name": "Python 3"
    },
    "language_info": {
      "name": "python"
    }
  },
  "cells": [
    {
      "cell_type": "markdown",
      "metadata": {
        "id": "view-in-github",
        "colab_type": "text"
      },
      "source": [
        "<a href=\"https://colab.research.google.com/github/JJean-B/HU-Python-Data-Bootcamp-2025/blob/main/String%20Methods%20Paractice%206.3.ipynb\" target=\"_parent\"><img src=\"https://colab.research.google.com/assets/colab-badge.svg\" alt=\"Open In Colab\"/></a>"
      ]
    },
    {
      "cell_type": "code",
      "source": [
        "print(\"This program will check to see if two values are the same.\")\n",
        "string1 = input(\"Enter a name: \")\n",
        "string2 = input(\"Enter another name: \")\n",
        "\n",
        "if string1 == string2:\n",
        "    print(\"They are the same!\")\n",
        "else:\n",
        "    print(\"They are not the same.\")\n"
      ],
      "metadata": {
        "id": "ECS6xfdINh2M",
        "outputId": "221a1033-4e42-41f4-df49-3c554bfe7e85",
        "colab": {
          "base_uri": "https://localhost:8080/"
        }
      },
      "execution_count": 1,
      "outputs": [
        {
          "output_type": "stream",
          "name": "stdout",
          "text": [
            "This program will check to see if two values are the same.\n",
            "Enter a name: Jean-Baptiste\n",
            "Enter another name: JeanBaptiste\n",
            "They are not the same.\n"
          ]
        }
      ]
    },
    {
      "cell_type": "code",
      "source": [
        "\n",
        "string11 = \"It's Friday!\"\n",
        "string12 = \"It's Friday!\"\n",
        "print(string11 is string12)\n"
      ],
      "metadata": {
        "id": "GZ7WxBArSYdP",
        "outputId": "36a12b7e-b2b2-43e0-abe8-d9c87cba57d5",
        "colab": {
          "base_uri": "https://localhost:8080/"
        }
      },
      "execution_count": 5,
      "outputs": [
        {
          "output_type": "stream",
          "name": "stdout",
          "text": [
            "False\n"
          ]
        }
      ]
    },
    {
      "cell_type": "code",
      "source": [
        "#DIY\n",
        "practicestring1 = 'My way'\n",
        "practicestring2 = 'my way'\n",
        "print(practicestring2 is practicestring1)"
      ],
      "metadata": {
        "id": "Buy8X3nXuswo",
        "outputId": "d79e86dc-13fe-4733-9188-b4dcc7bff1bf",
        "colab": {
          "base_uri": "https://localhost:8080/"
        }
      },
      "execution_count": 6,
      "outputs": [
        {
          "output_type": "stream",
          "name": "stdout",
          "text": [
            "False\n"
          ]
        }
      ]
    },
    {
      "cell_type": "code",
      "execution_count": 7,
      "metadata": {
        "id": "pBjdRBDuU_2O",
        "outputId": "2873b4f7-f52c-4926-db91-f5c5013017ad",
        "colab": {
          "base_uri": "https://localhost:8080/"
        }
      },
      "outputs": [
        {
          "output_type": "stream",
          "name": "stdout",
          "text": [
            "17\n"
          ]
        }
      ],
      "source": [
        "welcome = \"Hello Black World\"\n",
        "length = len(welcome)\n",
        "print(length)\n"
      ]
    },
    {
      "cell_type": "code",
      "source": [
        "#DIY\n",
        "test_phrase = \"it's almost summertime\"\n",
        "print(len(test_phrase))"
      ],
      "metadata": {
        "id": "N8v45ZS1vHmV",
        "outputId": "cfe34428-6178-4e0d-8751-8325ae07a6a0",
        "colab": {
          "base_uri": "https://localhost:8080/"
        }
      },
      "execution_count": 8,
      "outputs": [
        {
          "output_type": "stream",
          "name": "stdout",
          "text": [
            "22\n"
          ]
        }
      ]
    },
    {
      "cell_type": "code",
      "source": [
        "my_string = \"Hello!\"\n",
        "character = my_string[5]\n",
        "print(character)\n"
      ],
      "metadata": {
        "id": "FCpaBYt2VTte",
        "outputId": "c9641b8e-af36-4a2c-9d88-fb64a25cc9f6",
        "colab": {
          "base_uri": "https://localhost:8080/"
        }
      },
      "execution_count": 9,
      "outputs": [
        {
          "output_type": "stream",
          "name": "stdout",
          "text": [
            "!\n"
          ]
        }
      ]
    },
    {
      "cell_type": "code",
      "source": [
        "#DIY\n",
        "test_string = 'letters'\n",
        "print(test_string[5]) #index starts at 0 ( l = 0, e = 1, t = 2, t = 3, e = 4, r = 5, s = 6)"
      ],
      "metadata": {
        "id": "Yl2pgbyUvoJZ",
        "outputId": "3dae9532-2c87-45b8-9ff6-d1ac73e1e162",
        "colab": {
          "base_uri": "https://localhost:8080/"
        }
      },
      "execution_count": 13,
      "outputs": [
        {
          "output_type": "stream",
          "name": "stdout",
          "text": [
            "r\n"
          ]
        }
      ]
    },
    {
      "cell_type": "code",
      "source": [
        "my_string = \"House\"\n",
        "#my_string[0] = \"M\"\n",
        "print(my_string)\n",
        "\n",
        "my_string = \"House\"\n",
        "my_string = \"Home\"\n",
        "print(my_string)\n",
        "\n",
        "#DIY\n",
        "my_string[3]"
      ],
      "metadata": {
        "id": "OZWuFoTSVgGJ",
        "outputId": "3205c46f-6061-4b21-9978-3c082f69cac2",
        "colab": {
          "base_uri": "https://localhost:8080/",
          "height": 70
        }
      },
      "execution_count": 15,
      "outputs": [
        {
          "output_type": "stream",
          "name": "stdout",
          "text": [
            "House\n",
            "Home\n"
          ]
        },
        {
          "output_type": "execute_result",
          "data": {
            "text/plain": [
              "'e'"
            ],
            "application/vnd.google.colaboratory.intrinsic+json": {
              "type": "string"
            }
          },
          "metadata": {},
          "execution_count": 15
        }
      ]
    },
    {
      "cell_type": "code",
      "source": [
        "my_string = \"The brown dog jumps over the lazy fox.\"\n",
        "\n",
        "print(\"jumps\" in my_string)\n"
      ],
      "metadata": {
        "id": "cHp10EvqWhhO",
        "outputId": "bd59f5a8-d69e-4846-fce8-60fc029f0ba0",
        "colab": {
          "base_uri": "https://localhost:8080/"
        }
      },
      "execution_count": 17,
      "outputs": [
        {
          "output_type": "stream",
          "name": "stdout",
          "text": [
            "True\n"
          ]
        }
      ]
    },
    {
      "cell_type": "code",
      "source": [
        "#DIY\n",
        "print(test_phrase)\n",
        "print(\"most\" in test_phrase)"
      ],
      "metadata": {
        "id": "__6OYFHlyx-1",
        "outputId": "1a1a5b83-786f-4ea1-8cc1-ab098cfdf8a8",
        "colab": {
          "base_uri": "https://localhost:8080/"
        }
      },
      "execution_count": 19,
      "outputs": [
        {
          "output_type": "stream",
          "name": "stdout",
          "text": [
            "it's almost summertime\n",
            "True\n"
          ]
        }
      ]
    },
    {
      "cell_type": "code",
      "source": [
        "my_string = \"The brown dog jumps over the lazy fox.\"\n",
        "my_slice = my_string[4:9]\n",
        "\n",
        "print(my_slice)\n"
      ],
      "metadata": {
        "id": "Qs915wpbWvL9"
      },
      "execution_count": null,
      "outputs": []
    },
    {
      "cell_type": "code",
      "source": [
        "#DIY\n",
        "#take a \"slice\" of the data....a portion of the data\n",
        "longsentence = \"we all went to the party last night\"\n",
        "print(longsentence[10:20])\n",
        "\n",
        "slicedsentence = longsentence[5:10]\n",
        "print(slicedsentence)"
      ],
      "metadata": {
        "id": "tVgUlXEfzJ7H",
        "outputId": "ae57449f-7c18-4f36-ff23-ef6813299ee5",
        "colab": {
          "base_uri": "https://localhost:8080/"
        }
      },
      "execution_count": 23,
      "outputs": [
        {
          "output_type": "stream",
          "name": "stdout",
          "text": [
            "t to the p\n",
            "l wen\n"
          ]
        }
      ]
    },
    {
      "cell_type": "code",
      "source": [
        "my_string = \"Hello world\"\n",
        "\n",
        "for char in my_string:\n",
        "    print(char)\n"
      ],
      "metadata": {
        "id": "77L6-QI3X1YQ",
        "outputId": "ae274eaa-3187-4e52-f88c-b60ebe1ce8d4",
        "colab": {
          "base_uri": "https://localhost:8080/"
        }
      },
      "execution_count": 24,
      "outputs": [
        {
          "output_type": "stream",
          "name": "stdout",
          "text": [
            "H\n",
            "e\n",
            "l\n",
            "l\n",
            "o\n",
            " \n",
            "w\n",
            "o\n",
            "r\n",
            "l\n",
            "d\n"
          ]
        }
      ]
    },
    {
      "cell_type": "code",
      "source": [
        "#DIY\n",
        "char?"
      ],
      "metadata": {
        "id": "cF-uo9MG0TQQ"
      },
      "execution_count": 25,
      "outputs": []
    },
    {
      "cell_type": "code",
      "source": [
        "string1 = \"It's Friday!\"\n",
        "string2 = \"It's friday!\"\n",
        "print(string1 == string2)\n"
      ],
      "metadata": {
        "id": "hjJ5UB5IYHt7"
      },
      "execution_count": null,
      "outputs": []
    },
    {
      "cell_type": "code",
      "source": [
        "NameF = input(\"What is your first name? \")\n",
        "NameMI = input(\"What is your middle intial? \")\n",
        "NameL = input(\"What is your last name? \")\n",
        "\n",
        "print (NameF + NameMI + NameL)\n",
        "\n",
        "print(NameF + ' '+ NameMI + ' '+ NameL)"
      ],
      "metadata": {
        "id": "JQ6AVu2iYalx"
      },
      "execution_count": null,
      "outputs": []
    },
    {
      "cell_type": "code",
      "source": [
        "print(\"This program will check to see if two values are the same.\")\n",
        "string1 = input(\"Enter a value: \").lower()\n",
        "string2 = input(\"Enter another value: \").lower()\n",
        "if string1 == string2:\n",
        "    print(\"They are the same!\")\n",
        "else:\n",
        "    print(\"They are not the same.\")\n"
      ],
      "metadata": {
        "id": "ofrzds55YrsP"
      },
      "execution_count": null,
      "outputs": []
    },
    {
      "cell_type": "code",
      "source": [
        "print(string2)"
      ],
      "metadata": {
        "id": "k8tdDJ5KZFzU"
      },
      "execution_count": null,
      "outputs": []
    },
    {
      "cell_type": "code",
      "source": [
        "age = int(input(\"Enter your age: \"))\n",
        "\n",
        "if age < 18:\n",
        "    print(\"You are underage.\")\n",
        "elif age >= 18 and age < 65:\n",
        "    print(\"You are an adult.\")\n",
        "else:\n",
        "    print(\"You are a senior citizen.\")"
      ],
      "metadata": {
        "id": "folL2CP0ZPlG"
      },
      "execution_count": null,
      "outputs": []
    }
  ]
}